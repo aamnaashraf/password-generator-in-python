{
  "nbformat": 4,
  "nbformat_minor": 0,
  "metadata": {
    "colab": {
      "provenance": [],
      "authorship_tag": "ABX9TyPV+uw4W/6yp1wQvE3ZRGfa",
      "include_colab_link": true
    },
    "kernelspec": {
      "name": "python3",
      "display_name": "Python 3"
    },
    "language_info": {
      "name": "python"
    }
  },
  "cells": [
    {
      "cell_type": "markdown",
      "metadata": {
        "id": "view-in-github",
        "colab_type": "text"
      },
      "source": [
        "<a href=\"https://colab.research.google.com/github/aamnaashraf/password-generator-in-python/blob/main/Password_generator.ipynb\" target=\"_parent\"><img src=\"https://colab.research.google.com/assets/colab-badge.svg\" alt=\"Open In Colab\"/></a>"
      ]
    },
    {
      "cell_type": "code",
      "execution_count": 2,
      "metadata": {
        "colab": {
          "base_uri": "https://localhost:8080/"
        },
        "id": "z3ShA0y-P688",
        "outputId": "eb011581-6825-460b-c86e-d0ecc89fbec8"
      },
      "outputs": [
        {
          "output_type": "stream",
          "name": "stdout",
          "text": [
            "Collecting colorama\n",
            "  Downloading colorama-0.4.6-py2.py3-none-any.whl.metadata (17 kB)\n",
            "Downloading colorama-0.4.6-py2.py3-none-any.whl (25 kB)\n",
            "Installing collected packages: colorama\n",
            "Successfully installed colorama-0.4.6\n"
          ]
        }
      ],
      "source": [
        "!pip install colorama"
      ]
    },
    {
      "cell_type": "code",
      "source": [
        "import random\n",
        "import string\n",
        "from colorama import Fore, Style, init\n",
        "\n",
        "# Initialize colorama\n",
        "init(autoreset=True)\n",
        "\n",
        "def print_colored(text, color):\n",
        "    \"\"\"Prints text in the specified color.\"\"\"\n",
        "    print(color + text + Style.RESET_ALL)\n",
        "\n",
        "def generate_password(length, use_letters=True, use_numbers=True, use_symbols=True):\n",
        "    \"\"\"Generates a random password based on user preferences.\"\"\"\n",
        "    characters = \"\"\n",
        "    if use_letters:\n",
        "        characters += string.ascii_letters  # Adds uppercase and lowercase letters\n",
        "    if use_numbers:\n",
        "        characters += string.digits  # Adds numbers (0-9)\n",
        "    if use_symbols:\n",
        "        characters += string.punctuation  # Adds symbols (!, @, #, etc.)\n",
        "\n",
        "    if not characters:\n",
        "        print_colored(\"Error: You must select at least one character type!\", Fore.RED)\n",
        "        return None\n",
        "\n",
        "    password = ''.join(random.choice(characters) for _ in range(length))\n",
        "    return password\n",
        "\n",
        "def password_generator():\n",
        "    print_colored(\"Welcome to the Password Generator! 🔐\", Fore.CYAN)\n",
        "    print_colored(\"Let's create a strong and secure password for you.\", Fore.LIGHTYELLOW_EX)\n",
        "\n",
        "    try:\n",
        "        # Get password length\n",
        "        length = int(input(\"\\nEnter the length of the password (e.g., 12): \"))\n",
        "        if length < 4:\n",
        "            print_colored(\"Password length should be at least 4 characters.\", Fore.RED)\n",
        "            return\n",
        "\n",
        "        # Get character types\n",
        "        print(\"\\nSelect character types to include in the password:\")\n",
        "        use_letters = input(\"Include letters? (y/n): \").strip().lower() == 'y'\n",
        "        use_numbers = input(\"Include numbers? (y/n): \").strip().lower() == 'y'\n",
        "        use_symbols = input(\"Include symbols? (y/n): \").strip().lower() == 'y'\n",
        "\n",
        "        # Generate password\n",
        "        password = generate_password(length, use_letters, use_numbers, use_symbols)\n",
        "        if password:\n",
        "            print_colored(\"\\nYour generated password is:\", Fore.LIGHTGREEN_EX)\n",
        "            print_colored(password, Fore.LIGHTBLUE_EX + Style.BRIGHT)\n",
        "            print_colored(\"\\nKeep it safe and secure! 😊\", Fore.LIGHTMAGENTA_EX)\n",
        "\n",
        "    except ValueError:\n",
        "        print_colored(\"Invalid input! Please enter a valid number for password length.\", Fore.RED)\n",
        "\n",
        "# Run the password generator\n",
        "password_generator()"
      ],
      "metadata": {
        "colab": {
          "base_uri": "https://localhost:8080/"
        },
        "id": "h57sgOcOQZWw",
        "outputId": "60cc95f8-6173-4687-fbb6-8d0f3f09900d"
      },
      "execution_count": 3,
      "outputs": [
        {
          "output_type": "stream",
          "name": "stdout",
          "text": [
            "Welcome to the Password Generator! 🔐\n",
            "Let's create a strong and secure password for you.\n",
            "\n",
            "Enter the length of the password (e.g., 12): 10\n",
            "\n",
            "Select character types to include in the password:\n",
            "Include letters? (y/n): y\n",
            "Include numbers? (y/n): y\n",
            "Include symbols? (y/n): y\n",
            "\n",
            "Your generated password is:\n",
            "rPMNv.O=Z_\n",
            "\n",
            "Keep it safe and secure! 😊\n"
          ]
        }
      ]
    }
  ]
}